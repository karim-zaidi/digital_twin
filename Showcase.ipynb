{
 "cells": [
  {
   "cell_type": "markdown",
   "source": [
    "---\n",
    "\n",
    "<H1 align=\"center\"> CS project : digital-twin  </H1>\n",
    "\n",
    "---\n",
    "\n",
    "<p align=\"center\"> Maxime DUVAL-PREVOSTEAU, Karim ZAIDI </p>"
   ],
   "metadata": {}
  },
  {
   "cell_type": "markdown",
   "source": [
    "### Table of contents\n",
    "\n",
    "- [Project presentation](#project_presentation)\n",
    "- [How we worked](#work)\n",
    "- [Our solution](#solution)\n",
    "    - [Principle](#principle)\n",
    "    - [Example](#example)\n",
    "- [Self_assessment](#self_assessment)"
   ],
   "metadata": {}
  },
  {
   "cell_type": "markdown",
   "source": [
    "## Project presentation <a class=\"anchor\" id=\"project_presentation\"></a>"
   ],
   "metadata": {}
  },
  {
   "cell_type": "markdown",
   "source": [
    "For your second CS project, you are invited to collaborate with a pair to develop the following Python project.\n",
    "\n",
    "The company of Mr. Guiblind used to deliver office buildings for decades, but modern buildings are getting \"smarter\", and in particular they are now expected to be delivered together with a *digital twin* in order to support connected scenarios. Typically, a digital twin can be summarized as an application that offers a virtual representation mirroring any physical elements of a building (*e.g.*, wall, door, floor), which are then composed to organize indoor areas (*e.g.*, room, patio, corridor). For example, a given room is designed from the combination of four walls, one containing a door and the others some windows. One of these walls can be shared with a corridor next to the office, etc. Both elements and areas may have specific attributes, but are all including a combination of coordinates to locate them in the building (the coordinates of an area corresponding to the bounding box of all contained assets or sub-areas). The digital twin is expected to live with the building—i.e., if new offices are designed, the digital twin is update accordingly.\n",
    "\n",
    "This digital twin can then serve different purposes. For example, it can be visited to draw it on a map. For example, tracking a visitor whenever she enters an office at a given time. In that case, the office will keep track of the movements of visitors in order to maintain some statistics (e.g., occupation of the office along a given period of the day).\n",
    "\n",
    "To better understand the effective usage of a building, we are interested in monitoring which areas are actually visited by people and assets. We assume that the digital twin is connected to an *indoor positioning system* (IPS) that can report on the asset locations reported as timestamped coordinates. Whenever such a position is detected, we want the digital twin to keep track of the associated areas that are visited (areas are not exclusive). To check the inclusion of a position in a potential area, it might be worth to compute the convex hull of an area from the coordinates of enclosed elements (hint: if you do not know how to compute a convex envelope in a 2D plan, [just ask Graham](https://letmegooglethat.com/?q=graham+convex+hul+algorithm)). \n",
    "\n",
    "For each of the monitored areas, we are interested in observing the `k` clusters among recorded locations to build some kind of heat map identifying the most popular places in a given area. To implement this feature, you can integrate or implement existing clustering algorithms, like [K-means](https://scikit-learn.org/stable/modules/clustering.html#k-means).\n",
    "\n",
    "In the context of this project, we are only considering 2D representations of the building (i.e., maps), eventually separating the floors of the building as distinct maps. The elements of the building (e.g., walls) are assumed to have a thickness of `0`, meaning that both the coordinates of both extremities of a wall refers to the center. Hence, a graphical representation of the building would assume a default thickness. \n",
    "\n",
    "During the first part of this project, you are therefore invited to propose a Python encoding of the digital twin that Mr. Guiblind can configure whenever he delivers a new building to one of his customers. This digital twin should be delivered as a Git repository and come with a good coverage of the code base, and be developed by following the principles of TDD.\n",
    "\n",
    "During the second part of this project, you are encouraged to apply the principle of clean code, as introduced above. It might also be relevant to propose a graphical representation of the maps, which can be simply ploted using matplotlib or any library that eases the drawing of maps.\n",
    "\n",
    "During the third part of this project, you are encouraged to apply and document design patterns that you succeeded to apply to your code."
   ],
   "metadata": {}
  },
  {
   "cell_type": "markdown",
   "source": [
    "## How we worked <a class=\"anchor\" id=\"work\"></a>"
   ],
   "metadata": {}
  },
  {
   "cell_type": "markdown",
   "source": [
    "To collaborate, we used messenger / discord to communicate and github to hold the source code.\n",
    "\n",
    "To achieve our solution, we used TDD and tried to follow the clean code principles."
   ],
   "metadata": {}
  },
  {
   "cell_type": "markdown",
   "source": [
    "## Our solution <a class=\"anchor\" id=\"solution\"></a>"
   ],
   "metadata": {}
  },
  {
   "cell_type": "markdown",
   "source": [
    "### Principle <a class=\"anchor\" id=\"principle\"></a>"
   ],
   "metadata": {}
  },
  {
   "cell_type": "markdown",
   "source": [
    "Our solution is implemented based on the following class diagram : \n",
    "\n",
    "![Diagram](img/Class_Diagram.jpg)\n",
    "\n"
   ],
   "metadata": {}
  },
  {
   "cell_type": "markdown",
   "source": [
    "### Example <a class=\"anchor\" id=\"example\"></a>"
   ],
   "metadata": {}
  },
  {
   "cell_type": "code",
   "execution_count": 1,
   "source": [
    "# setting path to import from different directories\n",
    "import sys\n",
    "sys.path.append(\"code\")\n",
    "\n",
    "# import\n",
    "from Window import Window\n",
    "from Wall import Wall\n",
    "from Floor import Floor\n",
    "from Element import Element\n",
    "from Zone import Zone\n",
    "from AtomicZone import AtomicZone\n",
    "from Point import P\n",
    "from Building import Building\n",
    "from Door import Door\n",
    "from CompositeZone import CompositeZone\n",
    "from Area import Area\n",
    "from Boundary import Boundary"
   ],
   "outputs": [],
   "metadata": {}
  },
  {
   "cell_type": "code",
   "execution_count": 2,
   "source": [
    "# building\n",
    "building = Building('test building')\n",
    "building.visualize()"
   ],
   "outputs": [
    {
     "output_type": "stream",
     "name": "stdout",
     "text": [
      "Building is empty!\n"
     ]
    }
   ],
   "metadata": {}
  },
  {
   "cell_type": "code",
   "execution_count": 3,
   "source": [
    "# create the floor\n",
    "building.create_floor(1) # create only an empty floor\n",
    "building.visualize()\n"
   ],
   "outputs": [
    {
     "output_type": "display_data",
     "data": {
      "image/png": "[encoded data removed]",
      "text/plain": [
       "<Figure size 432x288 with 1 Axes>"
      ]
     },
     "metadata": {
      "needs_background": "light"
     }
    }
   ],
   "metadata": {}
  },
  {
   "cell_type": "code",
   "execution_count": 4,
   "source": [
    "# 1st room\n",
    "building.add_wall(1, P(0, 0), P(10,0))\n",
    "building.add_wall(1, P(10, 0), P(10,10))\n",
    "building.add_wall(1, P(10,10), P(0,10))\n",
    "building.add_wall(1, P(0,10), P(0,0))\n",
    "building.visualize()"
   ],
   "outputs": [
    {
     "output_type": "display_data",
     "data": {
      "image/png": "[encoded data removed]",
      "text/plain": [
       "<Figure size 432x288 with 1 Axes>"
      ]
     },
     "metadata": {
      "needs_background": "light"
     }
    }
   ],
   "metadata": {}
  },
  {
   "cell_type": "code",
   "execution_count": 5,
   "source": [
    "# 1st room\n",
    "building.add_area(1, 'Room1', [0, 1, 2, 3])\n",
    "building.visualize()"
   ],
   "outputs": [
    {
     "output_type": "display_data",
     "data": {
      "image/png": "[encoded data removed]",
      "text/plain": [
       "<Figure size 432x288 with 1 Axes>"
      ]
     },
     "metadata": {
      "needs_background": "light"
     }
    }
   ],
   "metadata": {}
  },
  {
   "cell_type": "code",
   "execution_count": 6,
   "source": [
    "# walls for the 2nd room\n",
    "building.add_wall(1, P(0, 10), P(10,10))\n",
    "building.add_wall(1, P(10, 10), P(10,20))\n",
    "building.add_wall(1, P(10,20), P(0,20))\n",
    "building.add_wall(1, P(0,20), P(0,10))\n",
    "building.visualize()"
   ],
   "outputs": [
    {
     "output_type": "display_data",
     "data": {
      "image/png": "[encoded data removed]",
      "text/plain": [
       "<Figure size 432x288 with 1 Axes>"
      ]
     },
     "metadata": {
      "needs_background": "light"
     }
    }
   ],
   "metadata": {}
  },
  {
   "cell_type": "code",
   "execution_count": 7,
   "source": [
    "# 2nd room\n",
    "building.add_area(1, 'Room2', [8, 9, 10, 11])\n",
    "building.visualize()"
   ],
   "outputs": [
    {
     "output_type": "display_data",
     "data": {
      "image/png": "[encoded data removed]",
      "text/plain": [
       "<Figure size 432x288 with 1 Axes>"
      ]
     },
     "metadata": {
      "needs_background": "light"
     }
    }
   ],
   "metadata": {}
  },
  {
   "cell_type": "code",
   "execution_count": 8,
   "source": [
    "# walls for a corridor\n",
    "building.add_wall(1, P(10, 0), P(13,0))\n",
    "building.add_wall(1, P(13, 0), P(13,20))\n",
    "building.add_wall(1, P(10, 20), P(13,20))\n",
    "building.add_wall(1, P(10, 20), P(10,0))\n",
    "building.visualize()"
   ],
   "outputs": [
    {
     "output_type": "display_data",
     "data": {
      "image/png": "[encoded data removed]",
      "text/plain": [
       "<Figure size 432x288 with 1 Axes>"
      ]
     },
     "metadata": {
      "needs_background": "light"
     }
    }
   ],
   "metadata": {}
  },
  {
   "cell_type": "code",
   "execution_count": 9,
   "source": [
    "# corridor\n",
    "building.add_area(1, 'Corridor', [16, 17, 18, 19])\n",
    "building.visualize()"
   ],
   "outputs": [
    {
     "output_type": "display_data",
     "data": {
      "image/png": "[encoded data removed]",
      "text/plain": [
       "<Figure size 432x288 with 1 Axes>"
      ]
     },
     "metadata": {
      "needs_background": "light"
     }
    }
   ],
   "metadata": {}
  },
  {
   "cell_type": "code",
   "execution_count": 10,
   "source": [
    "# add doors\n",
    "building.add_door(1, 19, P(10, 2.5), P(10, 5))\n",
    "building.add_door(1, 19, P(10, 12.5), P(10, 15))\n",
    "building.visualize()"
   ],
   "outputs": [
    {
     "output_type": "display_data",
     "data": {
      "image/png": "[encoded data removed]",
      "text/plain": [
       "<Figure size 432x288 with 1 Axes>"
      ]
     },
     "metadata": {
      "needs_background": "light"
     }
    }
   ],
   "metadata": {}
  },
  {
   "cell_type": "code",
   "execution_count": null,
   "source": [
    "# testing zone\n",
    "building.add_atomic_zone(1, )"
   ],
   "outputs": [],
   "metadata": {}
  },
  {
   "cell_type": "code",
   "execution_count": null,
   "source": [],
   "outputs": [],
   "metadata": {}
  },
  {
   "cell_type": "code",
   "execution_count": null,
   "source": [],
   "outputs": [],
   "metadata": {}
  },
  {
   "cell_type": "code",
   "execution_count": null,
   "source": [],
   "outputs": [],
   "metadata": {}
  },
  {
   "cell_type": "code",
   "execution_count": null,
   "source": [],
   "outputs": [],
   "metadata": {}
  },
  {
   "cell_type": "markdown",
   "source": [
    "## Self-assessment <a class=\"anchor\" id=\"self_assessment\"></a>"
   ],
   "metadata": {}
  },
  {
   "cell_type": "markdown",
   "source": [
    "#### Git\n",
    "\n",
    "[x] I use git to store (only) the source code of my project.\n",
    "\n",
    "[x] I configured the git `.ignore` file.\n",
    "\n",
    "[x] I made a commit per atomic change to the file of the project. Example:\n",
    "\n",
    "[x] I use meaningful commit message by following guidelines. Example:\n",
    "\n",
    "[x] Both me and my pair are contributing to a shared repository.\n",
    "\n",
    "\n",
    "#### Python programming\n",
    "\n",
    "[x] I use object-oriented Python to develop my project. \n",
    "\n",
    "[x] I document the code of my project.\n",
    "\n",
    "[ ] I document the project itself.\n",
    "\n",
    "\n",
    "#### Test-driven development\n",
    "\n",
    "[x] I include some tests with my project. \n",
    "\n",
    "[ ] My tests cover all the source code developed.\n",
    "\n",
    "[x] I apply principles of TDD to develop my code.\n",
    "\n",
    "\n",
    "#### Software architecture\n",
    "\n",
    "[ ] I follow the clean code rules. \n",
    "\n",
    "[x] I use and document some design patterns in my project. Examples\n"
   ],
   "metadata": {}
  }
 ],
 "metadata": {
  "orig_nbformat": 4,
  "language_info": {
   "name": "python",
   "version": "3.8.8",
   "mimetype": "text/x-python",
   "codemirror_mode": {
    "name": "ipython",
    "version": 3
   },
   "pygments_lexer": "ipython3",
   "nbconvert_exporter": "python",
   "file_extension": ".py"
  },
  "kernelspec": {
   "name": "python3",
   "display_name": "Python 3.8.8 64-bit ('base': conda)"
  },
  "interpreter": {
   "hash": "38d7aab5c8f72a522cc42311bad25d33fd4cbb7f656148d2e72e9f94e5e0d8f1"
  }
 },
 "nbformat": 4,
 "nbformat_minor": 2
}